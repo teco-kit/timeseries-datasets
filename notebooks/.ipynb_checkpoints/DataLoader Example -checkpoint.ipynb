{
 "cells": [
  {
   "cell_type": "code",
   "execution_count": 13,
   "id": "9eccf90d",
   "metadata": {},
   "outputs": [],
   "source": [
    "import sys\n",
    "sys.path.append(\"../\")\n",
    "\n",
    "import warnings\n",
    "warnings.filterwarnings(\"ignore\")\n",
    "from torch.utils.data import DataLoader\n",
    "import matplotlib.pyplot as plt\n",
    "from dataloaders import data_set,data_dict\n",
    "import pywt\n",
    "import numpy as np"
   ]
  },
  {
   "cell_type": "markdown",
   "id": "5b0c5370",
   "metadata": {},
   "source": [
    "# Spetrogram as input with \"Given\" experiment type\n",
    "If no Spectrogram has been calculated, Spectrogram data will be produced on the first run, and this process may last for some time"
   ]
  },
  {
   "cell_type": "markdown",
   "id": "51451d2d",
   "metadata": {},
   "source": [
    "## load the data"
   ]
  },
  {
   "cell_type": "code",
   "execution_count": 4,
   "id": "a0ce5293",
   "metadata": {},
   "outputs": [
    {
     "name": "stdout",
     "output_type": "stream",
     "text": [
      " ----------------------- load all the data -------------------\n",
      "----------------------- Get the Sliding Window -------------------\n",
      "The orginal class weights are :  [0.9968 1.1117 1.2208 0.966  0.9006 0.883 ]\n",
      "----------------------- spetrogram generating -----------------------\n"
     ]
    }
   ],
   "source": [
    "class dotdict(dict):\n",
    "    \"\"\"dot.notation access to dictionary attributes\"\"\"\n",
    "    __getattr__ = dict.get\n",
    "    __setattr__ = dict.__setitem__\n",
    "    __delattr__ = dict.__delitem__\n",
    "\n",
    "args = dotdict()    \n",
    "\n",
    "# ================ change the path to dataset ! \n",
    "args.root_path =  r\"D:\\TECO\\Paper\\datasets\\UCI HAR Dataset\"\n",
    "# ================ If using spectrogram as input, modify the path where spectrogram is stored\n",
    "args.freq_save_path = r\"D:\\TECO\\Paper\\Final_version\\Freq_data\"\n",
    "# ================ \n",
    "args.data_name = \"ucihar\"\n",
    "\n",
    "args.difference = True \n",
    "args.sampling_freq =   50\n",
    "args.train_vali_quote = 0.95\n",
    "# for this dataset the window size is 128\n",
    "args.windowsize = int(2.56 * args.sampling_freq)\n",
    "\n",
    "\n",
    "\n",
    "\n",
    "args.drop_long = False\n",
    "\n",
    "args.datanorm_type = \"standardization\" # None ,\"standardization\", \"minmax\"\n",
    "\n",
    "args.wavename = \"morl\"\n",
    "# if you want to use raw time series as input, set model_type as time\n",
    "# if you want to use spectrogram as input, set model_type as freq\n",
    "# if you want to use both as inputs, set model_type as cross\n",
    "args.model_type = \"freq\"\n",
    "\n",
    "# if you want to do Leave one out cross validation, set exp_mode as \"LOCV\"\n",
    "# if you want to do the given train test experiment, set exp_mode as \"Given\"\n",
    "# if you want to do Semi non overlapping experiment, set exp_mode as \"SOCV\"\n",
    "# if you want to do Full non overlapping experiment, set exp_mode as \"FOCV\"\n",
    "args.exp_mode = \"Given\"\n",
    "\n",
    "if args.exp_mode == \"FOCV\":\n",
    "    args.displacement =  int(1 * args.windowsize) \n",
    "else:\n",
    "    args.displacement =  int(0.5 * args.windowsize)     \n",
    "\n",
    "\n",
    "args.batch_size = 32\n",
    "args.shuffle = True\n",
    "args.drop_last = False\n",
    "dataset = data_dict[args.data_name](args)\n",
    "\n",
    "\n"
   ]
  },
  {
   "cell_type": "markdown",
   "id": "67867830",
   "metadata": {},
   "source": [
    "## check the loader"
   ]
  },
  {
   "cell_type": "code",
   "execution_count": 5,
   "id": "3b5a9724",
   "metadata": {},
   "outputs": [
    {
     "name": "stdout",
     "output_type": "stream",
     "text": [
      "================ Given Mode ====================\n",
      "================ 1 CV ======================\n",
      "The class weights are :  [0.9966 1.1434 1.2357 0.9588 0.8892 0.8732]\n",
      "Train data number :  6984\n",
      "The number of classes is :  6\n",
      "The input_length  is :  128\n",
      "The channel_in is :  18\n",
      "Test data number :  2947\n",
      "Validation data number :  368\n"
     ]
    }
   ],
   "source": [
    "print(\"================ {} Mode ====================\".format(dataset.exp_mode))\n",
    "print(\"================ {} CV ======================\".format(dataset.num_of_cv))\n",
    "for i in range(dataset.num_of_cv):\n",
    "    dataset.update_train_val_test_keys()\n",
    "    train_data  = data_set(args,dataset,\"train\")\n",
    "    test_data  = data_set(args,dataset,\"test\")\n",
    "    vali_data  = data_set(args,dataset,\"vali\")\n",
    "    \n",
    "    \n",
    "        # form the dataloader\n",
    "    train_data_loader = DataLoader(train_data,  \n",
    "                                    batch_size   =  args.batch_size,\n",
    "                                    shuffle      =  args.shuffle,\n",
    "                                    num_workers  =  0,\n",
    "                                    drop_last    =  args.drop_last)\n",
    "\n",
    "    vali_data_loader = DataLoader(vali_data,  \n",
    "                                    batch_size   =  args.batch_size,\n",
    "                                    shuffle      =  args.shuffle,\n",
    "                                    num_workers  =  0,\n",
    "                                    drop_last    =  args.drop_last)\n",
    "\n",
    "    test_data_loader = DataLoader(test_data,  \n",
    "                                    batch_size   =  args.batch_size,\n",
    "                                    shuffle      =  args.shuffle,\n",
    "                                    num_workers  =  0,\n",
    "                                    drop_last    =  args.drop_last)\n",
    "    \n"
   ]
  },
  {
   "cell_type": "markdown",
   "id": "b5a0b2e7",
   "metadata": {},
   "source": [
    "because it is \"given\" experiment mode, the train test datasets are given, so only 1 time \n"
   ]
  },
  {
   "cell_type": "markdown",
   "id": "24bc2cbb",
   "metadata": {},
   "source": [
    "## check the data\n",
    "because this dataloader supports both inputs type, it returns three items back.\n",
    "\n",
    "in this case, only one input type is used, so just use the first and the third"
   ]
  },
  {
   "cell_type": "code",
   "execution_count": 6,
   "id": "072caf4c",
   "metadata": {},
   "outputs": [],
   "source": [
    "for i, (batch_x1,batch_x2,batch_y) in enumerate(train_data_loader):\n",
    "\n",
    "#     if self.args.model_type == \"cross\":\n",
    "#         batch_x1 = batch_x1.double().to(self.device)\n",
    "#         batch_x2 = batch_x2.double().to(self.device)\n",
    "#         batch_y = batch_y.long().to(self.device)\n",
    "#     else:\n",
    "#         batch_x1 = batch_x1.double().to(self.device)\n",
    "#         batch_y = batch_y.long().to(self.device)\n",
    "\n",
    "\n",
    "       \n",
    "        freq_input = batch_x1.cpu().detach().numpy()\n",
    "        label_y = batch_y.cpu().detach().numpy()\n",
    "        break"
   ]
  },
  {
   "cell_type": "code",
   "execution_count": 7,
   "id": "2863021d",
   "metadata": {},
   "outputs": [
    {
     "data": {
      "text/plain": [
       "(32, 18, 50, 128)"
      ]
     },
     "execution_count": 7,
     "metadata": {},
     "output_type": "execute_result"
    }
   ],
   "source": [
    "# The dimension is Batch x NumberOfSensors x Freq x Length \n",
    "freq_input.shape"
   ]
  },
  {
   "cell_type": "code",
   "execution_count": 21,
   "id": "8c91e99d",
   "metadata": {},
   "outputs": [
    {
     "data": {
      "image/png": "[encoded data removed]",
      "text/plain": [
       "<Figure size 432x288 with 1 Axes>"
      ]
     },
     "metadata": {
      "needs_background": "light"
     },
     "output_type": "display_data"
    }
   ],
   "source": [
    "freq_first_channel = freq_input[0,0]\n",
    "t = np.arange(0,2.56,1.0/args.sampling_freq)\n",
    "frequencies = list(np.arange(50))\n",
    "plt.contourf(t, frequencies, abs(freq_first_channel));"
   ]
  },
  {
   "cell_type": "markdown",
   "id": "f4cc92fe",
   "metadata": {},
   "source": [
    "# Raw Time Series as input with \"SOCV\" experiment type"
   ]
  },
  {
   "cell_type": "code",
   "execution_count": 22,
   "id": "e81c6abd",
   "metadata": {},
   "outputs": [
    {
     "name": "stdout",
     "output_type": "stream",
     "text": [
      " ----------------------- load all the data -------------------\n",
      "----------------------- Get the Sliding Window -------------------\n",
      "The orginal class weights are :  [0.9968 1.1117 1.2208 0.966  0.9006 0.883 ]\n"
     ]
    }
   ],
   "source": [
    "class dotdict(dict):\n",
    "    \"\"\"dot.notation access to dictionary attributes\"\"\"\n",
    "    __getattr__ = dict.get\n",
    "    __setattr__ = dict.__setitem__\n",
    "    __delattr__ = dict.__delitem__\n",
    "\n",
    "args = dotdict()    \n",
    "\n",
    "# ================ change the path to dataset ! \n",
    "args.root_path =  r\"D:\\TECO\\Paper\\datasets\\UCI HAR Dataset\"\n",
    "# ================ If using spectrogram as input, modify the path where spectrogram is stored\n",
    "args.freq_save_path = r\"D:\\TECO\\Paper\\Final_version\\Freq_data\"\n",
    "# ================ \n",
    "args.data_name = \"ucihar\"\n",
    "\n",
    "args.difference = True \n",
    "args.sampling_freq =   50\n",
    "args.train_vali_quote = 0.95\n",
    "# for this dataset the window size is 128\n",
    "args.windowsize = int(2.56 * args.sampling_freq)\n",
    "\n",
    "\n",
    "\n",
    "\n",
    "args.drop_long = False\n",
    "\n",
    "args.datanorm_type = \"standardization\" # None ,\"standardization\", \"minmax\"\n",
    "\n",
    "args.wavename = \"morl\"\n",
    "# if you want to use raw time series as input, set model_type as time\n",
    "# if you want to use spectrogram as input, set model_type as freq\n",
    "# if you want to use both as inputs, set model_type as cross\n",
    "args.model_type = \"time\"\n",
    "\n",
    "# if you want to do Leave one out cross validation, set exp_mode as \"LOCV\"\n",
    "# if you want to do the given train test experiment, set exp_mode as \"Given\"\n",
    "# if you want to do Semi non overlapping experiment, set exp_mode as \"SOCV\"\n",
    "# if you want to do Full non overlapping experiment, set exp_mode as \"FOCV\"\n",
    "args.exp_mode = \"SOCV\"\n",
    "\n",
    "if args.exp_mode == \"FOCV\":\n",
    "    args.displacement =  int(1 * args.windowsize) \n",
    "else:\n",
    "    args.displacement =  int(0.5 * args.windowsize)     \n",
    "\n",
    "\n",
    "args.batch_size = 32\n",
    "args.shuffle = True\n",
    "args.drop_last = False\n",
    "dataset = data_dict[args.data_name](args)\n",
    "\n",
    "\n"
   ]
  },
  {
   "cell_type": "code",
   "execution_count": 23,
   "id": "136ff006",
   "metadata": {},
   "outputs": [
    {
     "name": "stdout",
     "output_type": "stream",
     "text": [
      "================ SOCV Mode ====================\n",
      "================ 5 CV ======================\n",
      "Overlapping random Experiment : The 0 Part as the test\n",
      "The class weights are :  [1.0225 1.1218 1.2262 0.9614 0.8961 0.8629]\n",
      "Train data number :  7828\n",
      "The number of classes is :  6\n",
      "The input_length  is :  128\n",
      "The channel_in is :  18\n",
      "Test data number :  2059\n",
      "Validation data number :  412\n",
      "Overlapping random Experiment : The 1 Part as the test\n",
      "The class weights are :  [1.0153 1.0791 1.2025 0.9523 0.9041 0.9085]\n",
      "Train data number :  7828\n",
      "The number of classes is :  6\n",
      "The input_length  is :  128\n",
      "The channel_in is :  18\n",
      "Test data number :  2059\n",
      "Validation data number :  412\n",
      "Overlapping random Experiment : The 2 Part as the test\n",
      "The class weights are :  [0.9824 1.1345 1.2159 0.9824 0.9092 0.8617]\n",
      "Train data number :  7828\n",
      "The number of classes is :  6\n",
      "The input_length  is :  128\n",
      "The channel_in is :  18\n",
      "Test data number :  2059\n",
      "Validation data number :  412\n",
      "Overlapping random Experiment : The 3 Part as the test\n",
      "The class weights are :  [0.9929 1.1345 1.2227 0.9614 0.8887 0.8863]\n",
      "Train data number :  7828\n",
      "The number of classes is :  6\n",
      "The input_length  is :  128\n",
      "The channel_in is :  18\n",
      "Test data number :  2059\n",
      "Validation data number :  412\n",
      "Overlapping random Experiment : The 4 Part as the test\n",
      "The class weights are :  [1.0069 1.1184 1.2142 0.9518 0.8956 0.8913]\n",
      "Train data number :  7824\n",
      "The number of classes is :  6\n",
      "The input_length  is :  128\n",
      "The channel_in is :  18\n",
      "Test data number :  2063\n",
      "Validation data number :  412\n"
     ]
    }
   ],
   "source": [
    "print(\"================ {} Mode ====================\".format(dataset.exp_mode))\n",
    "print(\"================ {} CV ======================\".format(dataset.num_of_cv))\n",
    "for i in range(dataset.num_of_cv):\n",
    "    dataset.update_train_val_test_keys()\n",
    "    train_data  = data_set(args,dataset,\"train\")\n",
    "    test_data  = data_set(args,dataset,\"test\")\n",
    "    vali_data  = data_set(args,dataset,\"vali\")\n",
    "    \n",
    "    \n",
    "        # form the dataloader\n",
    "    train_data_loader = DataLoader(train_data,  \n",
    "                                    batch_size   =  args.batch_size,\n",
    "                                    shuffle      =  args.shuffle,\n",
    "                                    num_workers  =  0,\n",
    "                                    drop_last    =  args.drop_last)\n",
    "\n",
    "    vali_data_loader = DataLoader(vali_data,  \n",
    "                                    batch_size   =  args.batch_size,\n",
    "                                    shuffle      =  args.shuffle,\n",
    "                                    num_workers  =  0,\n",
    "                                    drop_last    =  args.drop_last)\n",
    "\n",
    "    test_data_loader = DataLoader(test_data,  \n",
    "                                    batch_size   =  args.batch_size,\n",
    "                                    shuffle      =  args.shuffle,\n",
    "                                    num_workers  =  0,\n",
    "                                    drop_last    =  args.drop_last)\n",
    "    \n"
   ]
  },
  {
   "cell_type": "markdown",
   "id": "c5068d48",
   "metadata": {},
   "source": [
    "because it is \"SOCV\" experiment mode, it will do 5-folds cross validation"
   ]
  },
  {
   "cell_type": "markdown",
   "id": "7e2acfde",
   "metadata": {},
   "source": [
    "## check the data\n",
    "because this dataloader supports both inputs type, it returns three items back.\n",
    "\n",
    "in this case, only one input type \"time\" is used, so just use the first and the third"
   ]
  },
  {
   "cell_type": "code",
   "execution_count": 25,
   "id": "415357eb",
   "metadata": {},
   "outputs": [],
   "source": [
    "for i, (batch_x1,batch_x2,batch_y) in enumerate(train_data_loader):\n",
    "\n",
    "#     if self.args.model_type == \"cross\":\n",
    "#         batch_x1 = batch_x1.double().to(self.device)\n",
    "#         batch_x2 = batch_x2.double().to(self.device)\n",
    "#         batch_y = batch_y.long().to(self.device)\n",
    "#     else:\n",
    "#         batch_x1 = batch_x1.double().to(self.device)\n",
    "#         batch_y = batch_y.long().to(self.device)\n",
    "\n",
    "\n",
    "       \n",
    "        time_input = batch_x1.cpu().detach().numpy()\n",
    "        label_y = batch_y.cpu().detach().numpy()\n",
    "        break"
   ]
  },
  {
   "cell_type": "code",
   "execution_count": 27,
   "id": "2ba09f86",
   "metadata": {},
   "outputs": [
    {
     "data": {
      "text/plain": [
       "(32, 128, 18)"
      ]
     },
     "execution_count": 27,
     "metadata": {},
     "output_type": "execute_result"
    }
   ],
   "source": [
    "# The Dimension is Batch x Length x NumberOfChannel\n",
    "time_input.shape"
   ]
  },
  {
   "cell_type": "code",
   "execution_count": 29,
   "id": "ad80b3c6",
   "metadata": {},
   "outputs": [
    {
     "data": {
      "image/png": "[encoded data removed]",
      "text/plain": [
       "<Figure size 432x288 with 1 Axes>"
      ]
     },
     "metadata": {
      "needs_background": "light"
     },
     "output_type": "display_data"
    }
   ],
   "source": [
    "plt.plot(time_input[0]);"
   ]
  },
  {
   "cell_type": "markdown",
   "id": "5e9137db",
   "metadata": {},
   "source": [
    "# Both representations as input with \"LOCV\" experiment type\n",
    "\n",
    "the spectrogram data is generated in section 1"
   ]
  },
  {
   "cell_type": "code",
   "execution_count": 32,
   "id": "1b43c3c1",
   "metadata": {},
   "outputs": [
    {
     "name": "stdout",
     "output_type": "stream",
     "text": [
      " ----------------------- load all the data -------------------\n",
      "----------------------- Get the Sliding Window -------------------\n",
      "The orginal class weights are :  [0.9968 1.1117 1.2208 0.966  0.9006 0.883 ]\n",
      "----------------------- file are generated -----------------------\n"
     ]
    }
   ],
   "source": [
    "class dotdict(dict):\n",
    "    \"\"\"dot.notation access to dictionary attributes\"\"\"\n",
    "    __getattr__ = dict.get\n",
    "    __setattr__ = dict.__setitem__\n",
    "    __delattr__ = dict.__delitem__\n",
    "\n",
    "args = dotdict()    \n",
    "\n",
    "# ================ change the path to dataset ! \n",
    "args.root_path =  r\"D:\\TECO\\Paper\\datasets\\UCI HAR Dataset\"\n",
    "# ================ If using spectrogram as input, modify the path where spectrogram is stored\n",
    "args.freq_save_path = r\"D:\\TECO\\Paper\\Final_version\\Freq_data\"\n",
    "# ================ \n",
    "args.data_name = \"ucihar\"\n",
    "\n",
    "args.difference = True \n",
    "args.sampling_freq =   50\n",
    "args.train_vali_quote = 0.95\n",
    "# for this dataset the window size is 128\n",
    "args.windowsize = int(2.56 * args.sampling_freq)\n",
    "\n",
    "\n",
    "\n",
    "\n",
    "args.drop_long = False\n",
    "\n",
    "args.datanorm_type = \"standardization\" # None ,\"standardization\", \"minmax\"\n",
    "\n",
    "args.wavename = \"morl\"\n",
    "# if you want to use raw time series as input, set model_type as time\n",
    "# if you want to use spectrogram as input, set model_type as freq\n",
    "# if you want to use both as inputs, set model_type as cross\n",
    "args.model_type = \"cross\"\n",
    "\n",
    "# if you want to do Leave one out cross validation, set exp_mode as \"LOCV\"\n",
    "# if you want to do the given train test experiment, set exp_mode as \"Given\"\n",
    "# if you want to do Semi non overlapping experiment, set exp_mode as \"SOCV\"\n",
    "# if you want to do Full non overlapping experiment, set exp_mode as \"FOCV\"\n",
    "args.exp_mode = \"LOCV\"\n",
    "\n",
    "if args.exp_mode == \"FOCV\":\n",
    "    args.displacement =  int(1 * args.windowsize) \n",
    "else:\n",
    "    args.displacement =  int(0.5 * args.windowsize)     \n",
    "\n",
    "\n",
    "args.batch_size = 32\n",
    "args.shuffle = True\n",
    "args.drop_last = False\n",
    "dataset = data_dict[args.data_name](args)\n",
    "\n",
    "\n"
   ]
  },
  {
   "cell_type": "code",
   "execution_count": 33,
   "id": "d206b8e7",
   "metadata": {},
   "outputs": [
    {
     "name": "stdout",
     "output_type": "stream",
     "text": [
      "================ LOCV Mode ====================\n",
      "================ 10 CV ======================\n",
      "Leave one Out Experiment : The 0 Part as the test\n",
      "The class weights are :  [1.0328 1.1199 1.2313 0.949  0.8862 0.8736]\n",
      "Train data number :  8843\n",
      "The number of classes is :  6\n",
      "The input_length  is :  128\n",
      "The channel_in is :  18\n",
      "Test data number :  990\n",
      "Validation data number :  466\n",
      "Leave one Out Experiment : The 1 Part as the test\n",
      "The class weights are :  [1.0124 1.1272 1.2231 0.9519 0.8971 0.8754]\n",
      "Train data number :  8887\n",
      "The number of classes is :  6\n",
      "The input_length  is :  128\n",
      "The channel_in is :  18\n",
      "Test data number :  944\n",
      "Validation data number :  468\n",
      "Leave one Out Experiment : The 2 Part as the test\n",
      "The class weights are :  [1.0113 1.114  1.2267 0.9642 0.897  0.8723]\n",
      "Train data number :  8950\n",
      "The number of classes is :  6\n",
      "The input_length  is :  128\n",
      "The channel_in is :  18\n",
      "Test data number :  877\n",
      "Validation data number :  472\n",
      "Leave one Out Experiment : The 3 Part as the test\n",
      "The class weights are :  [1.0016 1.1161 1.2279 0.9645 0.8882 0.8861]\n",
      "Train data number :  8900\n",
      "The number of classes is :  6\n",
      "The input_length  is :  128\n",
      "The channel_in is :  18\n",
      "Test data number :  930\n",
      "Validation data number :  469\n",
      "Leave one Out Experiment : The 4 Part as the test\n",
      "The class weights are :  [0.9971 1.1256 1.2165 0.9613 0.896  0.8847]\n",
      "Train data number :  8854\n",
      "The number of classes is :  6\n",
      "The input_length  is :  128\n",
      "The channel_in is :  18\n",
      "Test data number :  978\n",
      "Validation data number :  467\n",
      "Leave one Out Experiment : The 5 Part as the test\n",
      "The class weights are :  [0.9909 1.1044 1.219  0.9672 0.919  0.8749]\n",
      "Train data number :  8740\n",
      "The number of classes is :  6\n",
      "The input_length  is :  128\n",
      "The channel_in is :  18\n",
      "Test data number :  1098\n",
      "Validation data number :  461\n",
      "Leave one Out Experiment : The 6 Part as the test\n",
      "The class weights are :  [0.9687 1.0868 1.1959 0.9824 0.9214 0.9025]\n",
      "Train data number :  8718\n",
      "The number of classes is :  6\n",
      "The input_length  is :  128\n",
      "The channel_in is :  18\n",
      "Test data number :  1122\n",
      "Validation data number :  459\n",
      "Leave one Out Experiment : The 7 Part as the test\n",
      "The class weights are :  [0.9835 1.1123 1.2201 0.9711 0.896  0.8938]\n",
      "Train data number :  8763\n",
      "The number of classes is :  6\n",
      "The input_length  is :  128\n",
      "The channel_in is :  18\n",
      "Test data number :  1074\n",
      "Validation data number :  462\n",
      "Leave one Out Experiment : The 8 Part as the test\n",
      "The class weights are :  [0.996  1.1041 1.2156 0.9673 0.9032 0.8876]\n",
      "Train data number :  8665\n",
      "The number of classes is :  6\n",
      "The input_length  is :  128\n",
      "The channel_in is :  18\n",
      "Test data number :  1177\n",
      "Validation data number :  457\n",
      "Leave one Out Experiment : The 9 Part as the test\n",
      "The class weights are :  [0.9918 1.1073 1.2176 0.9617 0.9026 0.8932]\n",
      "Train data number :  8730\n",
      "The number of classes is :  6\n",
      "The input_length  is :  128\n",
      "The channel_in is :  18\n",
      "Test data number :  1109\n",
      "Validation data number :  460\n"
     ]
    }
   ],
   "source": [
    "print(\"================ {} Mode ====================\".format(dataset.exp_mode))\n",
    "print(\"================ {} CV ======================\".format(dataset.num_of_cv))\n",
    "for i in range(dataset.num_of_cv):\n",
    "    dataset.update_train_val_test_keys()\n",
    "    train_data  = data_set(args,dataset,\"train\")\n",
    "    test_data  = data_set(args,dataset,\"test\")\n",
    "    vali_data  = data_set(args,dataset,\"vali\")\n",
    "    \n",
    "    \n",
    "        # form the dataloader\n",
    "    train_data_loader = DataLoader(train_data,  \n",
    "                                    batch_size   =  args.batch_size,\n",
    "                                    shuffle      =  args.shuffle,\n",
    "                                    num_workers  =  0,\n",
    "                                    drop_last    =  args.drop_last)\n",
    "\n",
    "    vali_data_loader = DataLoader(vali_data,  \n",
    "                                    batch_size   =  args.batch_size,\n",
    "                                    shuffle      =  args.shuffle,\n",
    "                                    num_workers  =  0,\n",
    "                                    drop_last    =  args.drop_last)\n",
    "\n",
    "    test_data_loader = DataLoader(test_data,  \n",
    "                                    batch_size   =  args.batch_size,\n",
    "                                    shuffle      =  args.shuffle,\n",
    "                                    num_workers  =  0,\n",
    "                                    drop_last    =  args.drop_last)\n",
    "    \n"
   ]
  },
  {
   "cell_type": "code",
   "execution_count": 35,
   "id": "7af15196",
   "metadata": {},
   "outputs": [],
   "source": [
    "for i, (batch_x1,batch_x2,batch_y) in enumerate(train_data_loader):\n",
    "\n",
    "#     if self.args.model_type == \"cross\":\n",
    "#         batch_x1 = batch_x1.double().to(self.device)\n",
    "#         batch_x2 = batch_x2.double().to(self.device)\n",
    "#         batch_y = batch_y.long().to(self.device)\n",
    "#     else:\n",
    "#         batch_x1 = batch_x1.double().to(self.device)\n",
    "#         batch_y = batch_y.long().to(self.device)\n",
    "\n",
    "\n",
    "       \n",
    "        time_input = batch_x1.cpu().detach().numpy()\n",
    "        freq_input = batch_x2.cpu().detach().numpy()\n",
    "        label_y = batch_y.cpu().detach().numpy()\n",
    "        break"
   ]
  },
  {
   "cell_type": "code",
   "execution_count": 39,
   "id": "12329236",
   "metadata": {},
   "outputs": [
    {
     "data": {
      "image/png": "[encoded data removed]",
      "text/plain": [
       "<Figure size 432x288 with 1 Axes>"
      ]
     },
     "metadata": {
      "needs_background": "light"
     },
     "output_type": "display_data"
    }
   ],
   "source": [
    "plt.plot(time_input[0,:,0]);"
   ]
  },
  {
   "cell_type": "code",
   "execution_count": 40,
   "id": "0fd9cd81",
   "metadata": {},
   "outputs": [
    {
     "data": {
      "image/png": "[encoded data removed]",
      "text/plain": [
       "<Figure size 432x288 with 1 Axes>"
      ]
     },
     "metadata": {
      "needs_background": "light"
     },
     "output_type": "display_data"
    }
   ],
   "source": [
    "freq_first_channel = freq_input[0,0]\n",
    "t = np.arange(0,2.56,1.0/args.sampling_freq)\n",
    "frequencies = list(np.arange(50))\n",
    "plt.contourf(t, frequencies, abs(freq_first_channel));"
   ]
  },
  {
   "cell_type": "code",
   "execution_count": null,
   "id": "125ad3a0",
   "metadata": {},
   "outputs": [],
   "source": []
  }
 ],
 "metadata": {
  "kernelspec": {
   "display_name": "Python 3",
   "language": "python",
   "name": "python3"
  },
  "language_info": {
   "codemirror_mode": {
    "name": "ipython",
    "version": 3
   },
   "file_extension": ".py",
   "mimetype": "text/x-python",
   "name": "python",
   "nbconvert_exporter": "python",
   "pygments_lexer": "ipython3",
   "version": "3.8.8"
  },
  "toc": {
   "base_numbering": 1,
   "nav_menu": {},
   "number_sections": true,
   "sideBar": true,
   "skip_h1_title": false,
   "title_cell": "Table of Contents",
   "title_sidebar": "Contents",
   "toc_cell": false,
   "toc_position": {},
   "toc_section_display": true,
   "toc_window_display": false
  }
 },
 "nbformat": 4,
 "nbformat_minor": 5
}
