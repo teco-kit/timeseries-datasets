{
 "cells": [
  {
   "cell_type": "code",
   "execution_count": 1,
   "id": "cccb53db",
   "metadata": {},
   "outputs": [],
   "source": [
    "import sys\n",
    "sys.path.append(\"../\")\n",
    "\n",
    "import warnings\n",
    "warnings.filterwarnings(\"ignore\")\n",
    "\n",
    "\n",
    "from data_loaders import data_set,data_dict"
   ]
  },
  {
   "cell_type": "markdown",
   "id": "fd140354",
   "metadata": {},
   "source": [
    "# Daphnet_Dataset"
   ]
  },
  {
   "cell_type": "code",
   "execution_count": 2,
   "id": "aa6bc0a7",
   "metadata": {},
   "outputs": [
    {
     "name": "stdout",
     "output_type": "stream",
     "text": [
      "Subjects Split\n"
     ]
    }
   ],
   "source": [
    "class dotdict(dict):\n",
    "    \"\"\"dot.notation access to dictionary attributes\"\"\"\n",
    "    __getattr__ = dict.get\n",
    "    __setattr__ = dict.__setitem__\n",
    "    __delattr__ = dict.__delitem__\n",
    "\n",
    "args = dotdict()    \n",
    "args.root_path =  r\"D:\\TECO\\Paper\\datasets\\Daphnet_Dataset\\dataset\"\n",
    "args.data_name = \"daphnet\"\n",
    "args.difference = True \n",
    "args.sampling_freq =   64\n",
    "args.windowsize = int(3 * args.sampling_freq)\n",
    "args.displacement_train =  int(0.33 * args.sampling_freq)\n",
    "args.displacement_test = 1\n",
    "args.drop_long = False\n",
    "\n",
    "args.datanorm_type = \"standardization\" # None ,\"standardization\", \"minmax\"\n",
    "\n",
    "data = data_dict[args.data_name](args)\n"
   ]
  },
  {
   "cell_type": "code",
   "execution_count": 3,
   "id": "9b9cc034",
   "metadata": {},
   "outputs": [
    {
     "name": "stdout",
     "output_type": "stream",
     "text": [
      "Train data number :  33832\n",
      "The number of classes is :  2\n",
      "The input_length  is :  192\n",
      "The channel_in is :  18\n",
      "Test data number :  210741\n",
      "Validation data number :  6385\n"
     ]
    }
   ],
   "source": [
    "train_data  = data_set(args,data,\"train\")\n",
    "test_data  = data_set(args,data,\"test\")\n",
    "vali_data  = data_set(args,data,\"vali\")"
   ]
  },
  {
   "cell_type": "markdown",
   "id": "c29647be",
   "metadata": {},
   "source": [
    "# DSA_Dataset"
   ]
  },
  {
   "cell_type": "code",
   "execution_count": 4,
   "id": "272b2b81",
   "metadata": {},
   "outputs": [
    {
     "name": "stdout",
     "output_type": "stream",
     "text": [
      "Subjects Split\n"
     ]
    }
   ],
   "source": [
    "class dotdict(dict):\n",
    "    \"\"\"dot.notation access to dictionary attributes\"\"\"\n",
    "    __getattr__ = dict.get\n",
    "    __setattr__ = dict.__setitem__\n",
    "    __delattr__ = dict.__delitem__\n",
    "\n",
    "args = dotdict()    \n",
    "args.root_path = r\"D:\\TECO\\Paper\\datasets\\DSA_Dataset\"\n",
    "args.data_name = \"dsa\"\n",
    "args.difference = True \n",
    "\n",
    "args.sampling_freq =   25\n",
    "args.windowsize = int(5 * args.sampling_freq)\n",
    "args.displacement_train =  int(0.5 * args.sampling_freq)\n",
    "args.displacement_test = 1\n",
    "args.drop_long = False\n",
    "\n",
    "args.datanorm_type = \"standardization\" # None ,\"standardization\", \"minmax\"\n",
    "\n",
    "data = data_dict[args.data_name](args)\n"
   ]
  },
  {
   "cell_type": "code",
   "execution_count": 5,
   "id": "7c76ed4d",
   "metadata": {},
   "outputs": [
    {
     "name": "stdout",
     "output_type": "stream",
     "text": [
      "Train data number :  5700\n",
      "The number of classes is :  19\n",
      "The input_length  is :  125\n",
      "The channel_in is :  90\n",
      "Test data number :  1140\n",
      "Validation data number :  2280\n"
     ]
    }
   ],
   "source": [
    "train_data  = data_set(args,data,\"train\")\n",
    "test_data  = data_set(args,data,\"test\")\n",
    "vali_data  = data_set(args,data,\"vali\")"
   ]
  },
  {
   "cell_type": "markdown",
   "id": "6a95aa59",
   "metadata": {},
   "source": [
    "# Single Chest"
   ]
  },
  {
   "cell_type": "code",
   "execution_count": 6,
   "id": "4142e891",
   "metadata": {},
   "outputs": [
    {
     "name": "stdout",
     "output_type": "stream",
     "text": [
      "Subjects Split\n"
     ]
    }
   ],
   "source": [
    "class dotdict(dict):\n",
    "    \"\"\"dot.notation access to dictionary attributes\"\"\"\n",
    "    __getattr__ = dict.get\n",
    "    __setattr__ = dict.__setitem__\n",
    "    __delattr__ = dict.__delitem__\n",
    "\n",
    "args = dotdict()    \n",
    "args.root_path = r\"D:\\TECO\\Paper\\datasets\\Single Chest Dataset\"\n",
    "args.data_name = \"single_chest\"\n",
    "args.difference = True \n",
    "\n",
    "args.sampling_freq =   52\n",
    "args.windowsize = int(1.5 * args.sampling_freq)\n",
    "args.displacement_train =  int(0.5 * args.sampling_freq)\n",
    "args.displacement_test = 1\n",
    "args.drop_long = False\n",
    "\n",
    "args.datanorm_type = \"standardization\" # None ,\"standardization\", \"minmax\"\n",
    "\n",
    "data = data_dict[args.data_name](args)\n"
   ]
  },
  {
   "cell_type": "code",
   "execution_count": 7,
   "id": "8387b4d9",
   "metadata": {},
   "outputs": [
    {
     "name": "stdout",
     "output_type": "stream",
     "text": [
      "Train data number :  43743\n",
      "The number of classes is :  7\n",
      "The input_length  is :  78\n",
      "The channel_in is :  6\n",
      "Test data number :  491978\n",
      "Validation data number :  10954\n"
     ]
    }
   ],
   "source": [
    "train_data  = data_set(args,data,\"train\")\n",
    "test_data  = data_set(args,data,\"test\")\n",
    "vali_data  = data_set(args,data,\"vali\")"
   ]
  },
  {
   "cell_type": "markdown",
   "id": "44c5d4d2",
   "metadata": {},
   "source": [
    "# Wisdm"
   ]
  },
  {
   "cell_type": "code",
   "execution_count": 8,
   "id": "465314eb",
   "metadata": {},
   "outputs": [
    {
     "name": "stdout",
     "output_type": "stream",
     "text": [
      "Subjects Split\n",
      "Train data number :  67978\n",
      "The number of classes is :  6\n",
      "The input_length  is :  30\n",
      "The channel_in is :  6\n",
      "Test data number :  173273\n",
      "Validation data number :  14481\n"
     ]
    }
   ],
   "source": [
    "class dotdict(dict):\n",
    "    \"\"\"dot.notation access to dictionary attributes\"\"\"\n",
    "    __getattr__ = dict.get\n",
    "    __setattr__ = dict.__setitem__\n",
    "    __delattr__ = dict.__delitem__\n",
    "\n",
    "args = dotdict()    \n",
    "args.root_path = r\"D:\\TECO\\Paper\\datasets\\WISDM_Dataset\"\n",
    "args.data_name = \"wisdm\"\n",
    "args.difference = True \n",
    "\n",
    "args.sampling_freq =   20\n",
    "args.windowsize = int(1.5 * args.sampling_freq)\n",
    "args.displacement_train =  int(0.5 * args.sampling_freq)\n",
    "args.displacement_test = 1\n",
    "args.drop_long = False\n",
    "\n",
    "args.datanorm_type = \"standardization\" # None ,\"standardization\", \"minmax\"\n",
    "\n",
    "data = data_dict[args.data_name](args)\n",
    "\n",
    "train_data  = data_set(args,data,\"train\")\n",
    "test_data  = data_set(args,data,\"test\")\n",
    "vali_data  = data_set(args,data,\"vali\")"
   ]
  },
  {
   "cell_type": "markdown",
   "id": "18d46f2f",
   "metadata": {},
   "source": [
    "# Fusion\n"
   ]
  },
  {
   "cell_type": "code",
   "execution_count": 9,
   "id": "849a5629",
   "metadata": {},
   "outputs": [
    {
     "name": "stdout",
     "output_type": "stream",
     "text": [
      "Subjects Split\n",
      "Train data number :  15036\n",
      "The number of classes is :  7\n",
      "The input_length  is :  75\n",
      "The channel_in is :  120\n",
      "Test data number :  124964\n",
      "Validation data number :  5012\n"
     ]
    }
   ],
   "source": [
    "class dotdict(dict):\n",
    "    \"\"\"dot.notation access to dictionary attributes\"\"\"\n",
    "    __getattr__ = dict.get\n",
    "    __setattr__ = dict.__setitem__\n",
    "    __delattr__ = dict.__delitem__\n",
    "\n",
    "args = dotdict()    \n",
    "args.root_path = r\"D:\\TECO\\Paper\\datasets\\Fusion_Dataset\"\n",
    "args.data_name = \"fusion\"\n",
    "args.difference = True \n",
    "\n",
    "args.sampling_freq =   50\n",
    "args.windowsize = int(1.5 * args.sampling_freq)\n",
    "args.displacement_train =  int(0.5 * args.sampling_freq)\n",
    "args.displacement_test = 1\n",
    "args.drop_long = False\n",
    "\n",
    "args.datanorm_type = \"standardization\" # None ,\"standardization\", \"minmax\"\n",
    "\n",
    "data = data_dict[args.data_name](args)\n",
    "\n",
    "train_data  = data_set(args,data,\"train\")\n",
    "test_data  = data_set(args,data,\"test\")\n",
    "vali_data  = data_set(args,data,\"vali\")"
   ]
  },
  {
   "cell_type": "markdown",
   "id": "b1cd2981",
   "metadata": {},
   "source": [
    "# Oppo"
   ]
  },
  {
   "cell_type": "code",
   "execution_count": 10,
   "id": "a577ee2c",
   "metadata": {},
   "outputs": [
    {
     "name": "stdout",
     "output_type": "stream",
     "text": [
      "Subjects Split\n",
      "Train data number :  34016\n",
      "The number of classes is :  18\n",
      "The input_length  is :  30\n",
      "The channel_in is :  226\n",
      "Test data number :  108015\n",
      "Validation data number :  10031\n"
     ]
    }
   ],
   "source": [
    "class dotdict(dict):\n",
    "    \"\"\"dot.notation access to dictionary attributes\"\"\"\n",
    "    __getattr__ = dict.get\n",
    "    __setattr__ = dict.__setitem__\n",
    "    __delattr__ = dict.__delitem__\n",
    "\n",
    "args = dotdict()    \n",
    "args.root_path =  r\"D:\\TECO\\Paper\\datasets\\Opportunity_Dataset\\dataset\"\n",
    "args.data_name = \"opportunity\"\n",
    "args.difference = True \n",
    "\n",
    "args.sampling_freq =   30\n",
    "args.windowsize = int(1 * args.sampling_freq)\n",
    "args.displacement_train =  int(0.5 * args.sampling_freq)\n",
    "args.displacement_test = 1\n",
    "args.drop_long = False\n",
    "\n",
    "args.datanorm_type = \"standardization\" # None ,\"standardization\", \"minmax\"\n",
    "\n",
    "data = data_dict[args.data_name](args)\n",
    "\n",
    "train_data  = data_set(args,data,\"train\")\n",
    "test_data  = data_set(args,data,\"test\")\n",
    "vali_data  = data_set(args,data,\"vali\")"
   ]
  },
  {
   "cell_type": "markdown",
   "id": "2d64882f",
   "metadata": {},
   "source": [
    "# Pamap2"
   ]
  },
  {
   "cell_type": "code",
   "execution_count": 11,
   "id": "73c10633",
   "metadata": {},
   "outputs": [
    {
     "name": "stdout",
     "output_type": "stream",
     "text": [
      "Subjects Split\n",
      "Train data number :  13840\n",
      "The number of classes is :  12\n",
      "The input_length  is :  512\n",
      "The channel_in is :  72\n",
      "Test data number :  243197\n",
      "Validation data number :  2660\n"
     ]
    }
   ],
   "source": [
    "class dotdict(dict):\n",
    "    \"\"\"dot.notation access to dictionary attributes\"\"\"\n",
    "    __getattr__ = dict.get\n",
    "    __setattr__ = dict.__setitem__\n",
    "    __delattr__ = dict.__delitem__\n",
    "\n",
    "args = dotdict()    \n",
    "args.root_path = r\"D:\\TECO\\Paper\\backup\\dataset_activity_recognition\\PAMAP2\\PAMAP2_Dataset\\Protocol\"\n",
    "args.data_name = \"pamap2\"\n",
    "args.difference = True \n",
    "\n",
    "args.sampling_freq =   100\n",
    "args.windowsize = int(5.12 * args.sampling_freq)\n",
    "args.displacement_train =  int(1 * args.sampling_freq)\n",
    "args.displacement_test = 1\n",
    "args.drop_long = False\n",
    "\n",
    "args.datanorm_type = \"standardization\" # None ,\"standardization\", \"minmax\"\n",
    "\n",
    "data = data_dict[args.data_name](args)\n",
    "\n",
    "train_data  = data_set(args,data,\"train\")\n",
    "test_data  = data_set(args,data,\"test\")\n",
    "vali_data  = data_set(args,data,\"vali\")"
   ]
  },
  {
   "cell_type": "markdown",
   "id": "878f6f16",
   "metadata": {},
   "source": [
    "# Mhealth"
   ]
  },
  {
   "cell_type": "code",
   "execution_count": 12,
   "id": "da4bc913",
   "metadata": {},
   "outputs": [
    {
     "name": "stdout",
     "output_type": "stream",
     "text": [
      "Subjects Split\n",
      "Train data number :  8104\n",
      "The number of classes is :  12\n",
      "The input_length  is :  75\n",
      "The channel_in is :  46\n",
      "Test data number :  66268\n",
      "Validation data number :  2622\n"
     ]
    }
   ],
   "source": [
    "class dotdict(dict):\n",
    "    \"\"\"dot.notation access to dictionary attributes\"\"\"\n",
    "    __getattr__ = dict.get\n",
    "    __setattr__ = dict.__setitem__\n",
    "    __delattr__ = dict.__delitem__\n",
    "\n",
    "args = dotdict()    \n",
    "args.root_path = r\"D:\\TECO\\Paper\\datasets\\Mhealth_Dataset\"\n",
    "args.data_name = \"mhealth\"\n",
    "args.difference = True \n",
    "\n",
    "args.sampling_freq =   50\n",
    "args.windowsize = int(1.5 * args.sampling_freq)\n",
    "args.displacement_train =  int(0.5 * args.sampling_freq)\n",
    "args.displacement_test = 1\n",
    "args.drop_long = False\n",
    "\n",
    "args.datanorm_type = \"standardization\" # None ,\"standardization\", \"minmax\"\n",
    "\n",
    "data = data_dict[args.data_name](args)\n",
    "\n",
    "train_data  = data_set(args,data,\"train\")\n",
    "test_data  = data_set(args,data,\"test\")\n",
    "vali_data  = data_set(args,data,\"vali\")"
   ]
  },
  {
   "cell_type": "markdown",
   "id": "dcd49708",
   "metadata": {},
   "source": [
    "# Skoda"
   ]
  },
  {
   "cell_type": "code",
   "execution_count": 13,
   "id": "8fbaf2c4",
   "metadata": {},
   "outputs": [
    {
     "name": "stdout",
     "output_type": "stream",
     "text": [
      "Random split\n",
      "Train data number :  7059\n",
      "The number of classes is :  10\n",
      "The input_length  is :  98\n",
      "The channel_in is :  60\n",
      "Test data number :  105697\n",
      "Validation data number :  1765\n"
     ]
    }
   ],
   "source": [
    "class dotdict(dict):\n",
    "    \"\"\"dot.notation access to dictionary attributes\"\"\"\n",
    "    __getattr__ = dict.get\n",
    "    __setattr__ = dict.__setitem__\n",
    "    __delattr__ = dict.__delitem__\n",
    "\n",
    "args = dotdict()    \n",
    "args.root_path  = r\"D:\\TECO\\Paper\\datasets\\Skoda HAR Dataset\"\n",
    "args.data_name = \"skoda\"\n",
    "args.difference = True \n",
    "\n",
    "args.sampling_freq =   98\n",
    "args.windowsize = int(1 * args.sampling_freq)\n",
    "args.displacement_train =  int(0.5 * args.sampling_freq)\n",
    "args.displacement_test = 1\n",
    "args.drop_long = False\n",
    "\n",
    "args.datanorm_type = \"standardization\" # None ,\"standardization\", \"minmax\"\n",
    "\n",
    "data = data_dict[args.data_name](args)\n",
    "\n",
    "train_data  = data_set(args,data,\"train\")\n",
    "test_data  = data_set(args,data,\"test\")\n",
    "vali_data  = data_set(args,data,\"vali\")"
   ]
  },
  {
   "cell_type": "markdown",
   "id": "decc3fd2",
   "metadata": {},
   "source": [
    "# USC HAD\n"
   ]
  },
  {
   "cell_type": "code",
   "execution_count": 14,
   "id": "d6c33281",
   "metadata": {},
   "outputs": [
    {
     "name": "stdout",
     "output_type": "stream",
     "text": [
      "Subjects Split\n",
      "Train data number :  44208\n",
      "The number of classes is :  12\n",
      "The input_length  is :  100\n",
      "The channel_in is :  12\n",
      "Test data number :  454561\n",
      "Validation data number :  13084\n"
     ]
    }
   ],
   "source": [
    "class dotdict(dict):\n",
    "    \"\"\"dot.notation access to dictionary attributes\"\"\"\n",
    "    __getattr__ = dict.get\n",
    "    __setattr__ = dict.__setitem__\n",
    "    __delattr__ = dict.__delitem__\n",
    "\n",
    "args = dotdict()    \n",
    "args.root_path  = r\"D:\\TECO\\Paper\\datasets\\USC_HAD_Dataset\"\n",
    "args.data_name = \"uschad\"\n",
    "args.difference = True \n",
    "\n",
    "args.sampling_freq =   100\n",
    "args.windowsize = int(1 * args.sampling_freq)\n",
    "args.displacement_train =  int(0.4 * args.sampling_freq)\n",
    "args.displacement_test = 1\n",
    "args.drop_long = False\n",
    "\n",
    "args.datanorm_type = \"standardization\" # None ,\"standardization\", \"minmax\"\n",
    "\n",
    "data = data_dict[args.data_name](args)\n",
    "\n",
    "train_data  = data_set(args,data,\"train\")\n",
    "test_data  = data_set(args,data,\"test\")\n",
    "vali_data  = data_set(args,data,\"vali\")"
   ]
  },
  {
   "cell_type": "markdown",
   "id": "f1e65dd3",
   "metadata": {},
   "source": [
    "# UTD MHAD\n"
   ]
  },
  {
   "cell_type": "code",
   "execution_count": 15,
   "id": "49745a4a",
   "metadata": {},
   "outputs": [
    {
     "name": "stdout",
     "output_type": "stream",
     "text": [
      "Subjects Split\n",
      "Train data number :  1510\n",
      "The number of classes is :  21\n",
      "The input_length  is :  50\n",
      "The channel_in is :  12\n",
      "Test data number :  12501\n",
      "Validation data number :  264\n"
     ]
    }
   ],
   "source": [
    "class dotdict(dict):\n",
    "    \"\"\"dot.notation access to dictionary attributes\"\"\"\n",
    "    __getattr__ = dict.get\n",
    "    __setattr__ = dict.__setitem__\n",
    "    __delattr__ = dict.__delitem__\n",
    "\n",
    "args = dotdict()    \n",
    "args.root_path = r\"D:\\TECO\\Paper\\datasets\\UTD_MHAD_Dataset\"\n",
    "args.data_name = \"utd_mhad\"\n",
    "args.difference = True \n",
    "\n",
    "args.sampling_freq =   50\n",
    "args.windowsize = int(1 * args.sampling_freq)\n",
    "args.displacement_train =  int(1 * args.sampling_freq)\n",
    "args.displacement_test = 1\n",
    "args.drop_long = False\n",
    "\n",
    "args.datanorm_type = \"standardization\" # None ,\"standardization\", \"minmax\"\n",
    "\n",
    "data = data_dict[args.data_name](args)\n",
    "\n",
    "train_data  = data_set(args,data,\"train\")\n",
    "test_data  = data_set(args,data,\"test\")\n",
    "vali_data  = data_set(args,data,\"vali\")"
   ]
  },
  {
   "cell_type": "markdown",
   "id": "5fc6651b",
   "metadata": {},
   "source": [
    "# UCIHAR"
   ]
  },
  {
   "cell_type": "code",
   "execution_count": 16,
   "id": "dd3e83f4",
   "metadata": {},
   "outputs": [
    {
     "name": "stdout",
     "output_type": "stream",
     "text": [
      "Subjects Split\n",
      "Train data number :  5559\n",
      "The number of classes is :  6\n",
      "The input_length  is :  128\n",
      "The channel_in is :  18\n",
      "Test data number :  2947\n",
      "Validation data number :  1793\n"
     ]
    }
   ],
   "source": [
    "class dotdict(dict):\n",
    "    \"\"\"dot.notation access to dictionary attributes\"\"\"\n",
    "    __getattr__ = dict.get\n",
    "    __setattr__ = dict.__setitem__\n",
    "    __delattr__ = dict.__delitem__\n",
    "\n",
    "args = dotdict()    \n",
    "args.root_path = r\"D:\\TECO\\Paper\\datasets\\UCI HAR Dataset\"\n",
    "args.data_name = \"ucihar\"\n",
    "args.difference = True \n",
    "\n",
    "args.sampling_freq =   128\n",
    "args.windowsize = int(1 * args.sampling_freq)\n",
    "args.displacement_train =  int(1 * args.sampling_freq)\n",
    "args.displacement_test = 1\n",
    "args.drop_long = False\n",
    "\n",
    "args.datanorm_type = \"standardization\" # None ,\"standardization\", \"minmax\"\n",
    "\n",
    "data = data_dict[args.data_name](args)\n",
    "\n",
    "train_data  = data_set(args,data,\"train\")\n",
    "test_data  = data_set(args,data,\"test\")\n",
    "vali_data  = data_set(args,data,\"vali\")"
   ]
  },
  {
   "cell_type": "markdown",
   "id": "82ffe3e1",
   "metadata": {},
   "source": [
    "# HuGaDB"
   ]
  },
  {
   "cell_type": "code",
   "execution_count": 2,
   "id": "902f28da",
   "metadata": {},
   "outputs": [
    {
     "name": "stdout",
     "output_type": "stream",
     "text": [
      "Subjects Split\n",
      "Train data number :  21653\n",
      "The number of classes is :  10\n",
      "The input_length  is :  60\n",
      "The channel_in is :  76\n",
      "Test data number :  139843\n",
      "Validation data number :  5655\n"
     ]
    }
   ],
   "source": [
    "class dotdict(dict):\n",
    "    \"\"\"dot.notation access to dictionary attributes\"\"\"\n",
    "    __getattr__ = dict.get\n",
    "    __setattr__ = dict.__setitem__\n",
    "    __delattr__ = dict.__delitem__\n",
    "\n",
    "args = dotdict()    \n",
    "args.root_path = r\"D:\\TECO\\Paper\\datasets\\HuGaDB Dataset\"\n",
    "args.data_name = \"hugadb\"\n",
    "args.difference = True \n",
    "\n",
    "args.sampling_freq =   60\n",
    "args.windowsize = int(1 * args.sampling_freq)\n",
    "args.displacement_train =  int(0.5 * args.sampling_freq)\n",
    "args.displacement_test = 1\n",
    "args.drop_long = False\n",
    "\n",
    "args.datanorm_type = None # None ,\"standardization\", \"minmax\"\n",
    "\n",
    "data = data_dict[args.data_name](args)\n",
    "\n",
    "train_data  = data_set(args,data,\"train\")\n",
    "test_data  = data_set(args,data,\"test\")\n",
    "vali_data  = data_set(args,data,\"vali\")"
   ]
  },
  {
   "cell_type": "code",
   "execution_count": 3,
   "id": "5653bf82",
   "metadata": {},
   "outputs": [
    {
     "data": {
      "image/png": "[encoded data removed]",
      "text/plain": [
       "<Figure size 432x288 with 1 Axes>"
      ]
     },
     "metadata": {
      "needs_background": "light"
     },
     "output_type": "display_data"
    }
   ],
   "source": [
    "train_data.data_y.loc[\"1_00\"].plot();"
   ]
  },
  {
   "cell_type": "markdown",
   "id": "9581e45f",
   "metadata": {},
   "source": [
    "# Motion Sense"
   ]
  },
  {
   "cell_type": "code",
   "execution_count": 4,
   "id": "4764169f",
   "metadata": {},
   "outputs": [
    {
     "name": "stdout",
     "output_type": "stream",
     "text": [
      "Random split\n",
      "Train data number :  85744\n",
      "The number of classes is :  6\n",
      "The input_length  is :  50\n",
      "The channel_in is :  24\n",
      "Test data number :  324363\n",
      "Validation data number :  21436\n"
     ]
    }
   ],
   "source": [
    "class dotdict(dict):\n",
    "    \"\"\"dot.notation access to dictionary attributes\"\"\"\n",
    "    __getattr__ = dict.get\n",
    "    __setattr__ = dict.__setitem__\n",
    "    __delattr__ = dict.__delitem__\n",
    "\n",
    "args = dotdict()    \n",
    "args.root_path = r\"D:\\TECO\\Paper\\datasets\\Motion_Sense_Dataset\\data\"\n",
    "args.data_name = \"motionsense\"\n",
    "args.difference = True \n",
    "\n",
    "args.sampling_freq =   50\n",
    "args.windowsize = int(1 * args.sampling_freq)\n",
    "args.displacement_train =  int(0.2 * args.sampling_freq)\n",
    "args.displacement_test = 1\n",
    "args.drop_long = False\n",
    "\n",
    "args.datanorm_type = None # None ,\"standardization\", \"minmax\"\n",
    "\n",
    "data = data_dict[args.data_name](args)\n",
    "\n",
    "train_data  = data_set(args,data,\"train\")\n",
    "test_data  = data_set(args,data,\"test\")\n",
    "vali_data  = data_set(args,data,\"vali\")"
   ]
  },
  {
   "cell_type": "markdown",
   "id": "c6921628",
   "metadata": {},
   "source": [
    "# Complex Human Activity"
   ]
  },
  {
   "cell_type": "code",
   "execution_count": 2,
   "id": "de23f1c0",
   "metadata": {},
   "outputs": [
    {
     "name": "stdout",
     "output_type": "stream",
     "text": [
      "Random split\n",
      "Train data number :  16832\n",
      "The number of classes is :  13\n",
      "The input_length  is :  100\n",
      "The channel_in is :  48\n",
      "Test data number :  116802\n",
      "Validation data number :  4208\n"
     ]
    }
   ],
   "source": [
    "class dotdict(dict):\n",
    "    \"\"\"dot.notation access to dictionary attributes\"\"\"\n",
    "    __getattr__ = dict.get\n",
    "    __setattr__ = dict.__setitem__\n",
    "    __delattr__ = dict.__delitem__\n",
    "\n",
    "args = dotdict()    \n",
    "args.root_path = r\"D:\\TECO\\Paper\\datasets\\Complex_HA_Dataset\"\n",
    "args.data_name = \"complexha\"\n",
    "args.difference = True \n",
    "\n",
    "args.sampling_freq =   50\n",
    "args.windowsize = int(2 * args.sampling_freq)\n",
    "args.displacement_train =  int(1 * args.sampling_freq)\n",
    "args.displacement_test = 1\n",
    "args.drop_long = False\n",
    "\n",
    "args.datanorm_type = None # None ,\"standardization\", \"minmax\"\n",
    "\n",
    "data = data_dict[args.data_name](args)\n",
    "\n",
    "train_data  = data_set(args,data,\"train\")\n",
    "test_data  = data_set(args,data,\"test\")\n",
    "vali_data  = data_set(args,data,\"vali\")"
   ]
  },
  {
   "cell_type": "code",
   "execution_count": null,
   "id": "930d2d28",
   "metadata": {},
   "outputs": [],
   "source": []
  }
 ],
 "metadata": {
  "kernelspec": {
   "display_name": "Python 3",
   "language": "python",
   "name": "python3"
  },
  "language_info": {
   "codemirror_mode": {
    "name": "ipython",
    "version": 3
   },
   "file_extension": ".py",
   "mimetype": "text/x-python",
   "name": "python",
   "nbconvert_exporter": "python",
   "pygments_lexer": "ipython3",
   "version": "3.8.8"
  },
  "toc": {
   "base_numbering": 1,
   "nav_menu": {},
   "number_sections": true,
   "sideBar": true,
   "skip_h1_title": false,
   "title_cell": "Table of Contents",
   "title_sidebar": "Contents",
   "toc_cell": false,
   "toc_position": {},
   "toc_section_display": true,
   "toc_window_display": true
  }
 },
 "nbformat": 4,
 "nbformat_minor": 5
}
